{
 "cells": [
  {
   "cell_type": "code",
   "execution_count": 15,
   "id": "7ca1cd4e",
   "metadata": {},
   "outputs": [
    {
     "name": "stdout",
     "output_type": "stream",
     "text": [
      "Generated molecule file path: outputs/eegsde_qm9_fingerprint/l_0.5/samples/70912/70912_samples.xyz\n",
      "Generated molecule file path: outputs/eegsde_qm9_fingerprint/l_0.5/samples/70912/70912_samples.xyz\n"
     ]
    }
   ],
   "source": [
    "\n",
    "\n",
    "# 'a' is fp_1024 of desired molecules\n",
    "a = [0.0, 0.0, 0.0, 0.0, 0.0, 0.0, 0.0, 0.0, 0.0, 0.0, 0.0, 0.0, 0.0, 0.0, 0.0, 0.0, 0.0,\n",
    "     0.0, 0.0, 0.0, 0.0, 0.0, 0.0, 0.0, 0.0, 0.0, 1.0, 0.0, 0.0, 0.0, 0.0, 0.0, 0.0, 0.0, \n",
    "     0.0, 0.0, 0.0, 0.0, 0.0, 0.0, 0.0, 0.0, 0.0, 0.0, 0.0, 0.0, 0.0, 0.0, 0.0, 0.0, 0.0, \n",
    "     0.0, 0.0, 0.0, 0.0, 0.0, 0.0, 0.0, 1.0, 0.0, 0.0, 0.0, 0.0, 0.0, 0.0, 0.0, 0.0, 0.0, \n",
    "     0.0, 0.0, 0.0, 0.0, 0.0, 0.0, 0.0, 0.0, 0.0, 0.0, 0.0, 0.0, 0.0, 0.0, 0.0, 0.0, 0.0, \n",
    "     0.0, 0.0, 0.0, 0.0, 0.0, 0.0, 0.0, 0.0, 0.0, 0.0, 0.0, 0.0, 0.0, 0.0, 0.0, 0.0, 0.0, \n",
    "     0.0, 0.0, 0.0, 0.0, 0.0, 0.0, 0.0, 0.0, 0.0, 0.0, 0.0, 0.0, 0.0, 0.0, 0.0, 0.0, 0.0, 0.0, \n",
    "     0.0, 0.0, 0.0, 0.0, 0.0, 0.0, 0.0, 0.0, 0.0, 0.0, 0.0, 0.0, 0.0, 0.0, 0.0, 0.0, 0.0, 0.0,\n",
    "     0.0, 0.0, 0.0, 0.0, 0.0, 0.0, 0.0, 0.0, 0.0, 0.0, 0.0, 0.0, 0.0, 0.0, 0.0, 0.0, 0.0, 0.0, 0.0, \n",
    "     0.0, 0.0, 1.0, 0.0, 0.0, 0.0, 0.0, 0.0, 0.0, 0.0, 0.0, 0.0, 0.0, 0.0, 0.0, 0.0, 0.0, 1.0, 0.0, \n",
    "     0.0, 0.0, 0.0, 0.0, 0.0, 0.0, 1.0, 0.0, 0.0, 0.0, 0.0, 0.0, 0.0, 0.0, 0.0, 0.0, 0.0, 0.0, 0.0, 0.0, \n",
    "     0.0, 0.0, 0.0, 0.0, 0.0, 0.0, 0.0, 0.0, 0.0, 0.0, 0.0, 0.0, 0.0, 0.0, 0.0, 0.0, 0.0, 0.0, 0.0, 0.0, \n",
    "     0.0, 0.0, 0.0, 0.0, 0.0, 0.0, 0.0, 0.0, 0.0, 0.0, 0.0, 0.0, 0.0, 0.0, 0.0, 0.0, 0.0, 0.0, 0.0, 0.0, \n",
    "     1.0, 0.0, 0.0, 0.0, 0.0, 0.0, 0.0, 0.0, 0.0, 0.0, 0.0, 0.0, 0.0, 0.0, 0.0, 0.0, 0.0, 0.0, 0.0, 0.0, \n",
    "     0.0, 0.0, 0.0, 0.0, 1.0, 0.0, 0.0, 0.0, 0.0, 0.0, 0.0, 0.0, 0.0, 0.0, 0.0, 0.0, 0.0, 0.0, 0.0, 0.0, \n",
    "     0.0, 0.0, 0.0, 0.0, 0.0, 0.0, 0.0, 0.0, 0.0, 0.0, 0.0, 0.0, 0.0, 0.0, 0.0, 0.0, 0.0, 0.0, 0.0, 0.0, \n",
    "     0.0, 0.0, 0.0, 0.0, 0.0, 0.0, 0.0, 1.0, 0.0, 0.0, 0.0, 0.0, 0.0, 0.0, 1.0, 0.0, 1.0, 0.0, 1.0, 0.0, \n",
    "     0.0, 0.0, 0.0, 0.0, 0.0, 0.0, 0.0, 0.0, 0.0, 0.0, 0.0, 0.0, 0.0, 1.0, 0.0, 1.0, 0.0, 0.0, 0.0, 0.0, \n",
    "     0.0, 0.0, 0.0, 0.0, 0.0, 0.0, 0.0, 0.0, 0.0, 0.0, 0.0, 0.0, 0.0, 0.0, 0.0, 0.0, 0.0, 0.0, 0.0, 0.0, \n",
    "     0.0, 0.0, 0.0, 0.0, 0.0, 0.0, 0.0, 0.0, 0.0, 0.0, 0.0, 0.0, 0.0, 0.0, 0.0, 0.0, 0.0, 0.0, 0.0, 0.0, \n",
    "     0.0, 0.0, 0.0, 0.0, 0.0, 0.0, 0.0, 0.0, 1.0, 0.0, 0.0, 0.0, 0.0, 0.0, 0.0, 0.0, 0.0, 0.0, 0.0, 0.0, 0.0, 0.0, 0.0, 0.0, 0.0, 0.0, 0.0, 0.0, 0.0, 0.0, 0.0, 0.0, 0.0, 0.0, 0.0, 0.0, 0.0, 0.0, 0.0, 0.0, 0.0, 0.0, 0.0, 0.0, 1.0, 0.0, 0.0, 1.0, 0.0, 0.0, 0.0, 0.0, 0.0, 0.0, 0.0, 0.0, 1.0, 0.0, 0.0, 1.0, 0.0, 0.0, 1.0, 0.0, 1.0, 0.0, 0.0, 0.0, 0.0, 0.0, 0.0, 0.0, 0.0, 0.0, 0.0, 0.0, 0.0, 0.0, 0.0, 0.0, 0.0, 0.0, 0.0, 0.0, 0.0, 0.0, 0.0, 0.0, 0.0, 0.0, 0.0, 0.0, 0.0, 0.0, 0.0, 0.0, 0.0, 0.0, 0.0, 0.0, 0.0, 0.0, 0.0, 0.0, 0.0, 0.0, 0.0, 0.0, 0.0, 0.0, 0.0, 0.0, 0.0, 0.0, 0.0, 0.0, 0.0, 0.0, 0.0, 0.0, 0.0, 0.0, 0.0, 0.0, 0.0, 0.0, 0.0, 0.0, 0.0, 0.0, 0.0, 0.0, 0.0, 0.0, 0.0, 0.0, 0.0, 0.0, 1.0, 1.0, 0.0, 0.0, 0.0, 0.0, 0.0, 0.0, 0.0, 0.0, 0.0, 0.0, 0.0, 0.0, 0.0, 0.0, 0.0, 1.0, 0.0, 0.0, 0.0, 0.0, 0.0, 0.0, 0.0, 0.0, 0.0, 0.0, 0.0, 0.0, 0.0, 0.0, 1.0, 0.0, 0.0, 0.0, 0.0, 0.0, 0.0, 0.0, 1.0, 0.0, 0.0, 0.0, 0.0, 0.0, 0.0, 0.0, 0.0, 0.0, 0.0, 0.0, 0.0, 0.0, 0.0, 0.0, 0.0, 0.0, 0.0, 0.0, 0.0, 0.0, 0.0, 0.0, 0.0, 0.0, 0.0, 0.0, 0.0, 0.0, 0.0, 0.0, 0.0, 0.0, 0.0, 0.0, 0.0, 0.0, 0.0, 1.0, 0.0, 0.0, 0.0, 0.0, 0.0, 0.0, 0.0, 0.0, 0.0, 0.0, 0.0, 1.0, 0.0, 0.0, 0.0, 0.0, 0.0, 0.0, 0.0, 0.0, 0.0, 0.0, 0.0, 0.0, 0.0, 0.0, 0.0, 0.0, 0.0, 1.0, 0.0, 1.0, 0.0, 0.0, 0.0, 0.0, 0.0, 0.0, 0.0, 0.0, 1.0, 0.0, 1.0, 0.0, 0.0, 0.0, 0.0, 0.0, 0.0, 0.0, 0.0, 0.0, 0.0, 0.0, 0.0, 1.0, 0.0, 0.0, 1.0, 0.0, 0.0, 0.0, 0.0, 0.0, 0.0, 0.0, 0.0, 0.0, 1.0, 0.0, 0.0, 0.0, 0.0, 0.0, 0.0, 0.0, 1.0, 0.0, 0.0, 0.0, 0.0, 0.0, 0.0, 0.0, 0.0, 0.0, 0.0, 1.0, 0.0, 0.0, 0.0, 0.0, 0.0, 0.0, 0.0, 0.0, 0.0, 0.0, 0.0, 0.0, 0.0, 0.0, 0.0, 0.0, 0.0, 0.0, 0.0, 0.0, 0.0, 0.0, 0.0, 0.0, 0.0, 1.0, 0.0, 0.0, 0.0, 0.0, 0.0, 0.0, 0.0, 0.0, 0.0, 0.0, 0.0, 1.0, 0.0, 0.0, 0.0, 0.0, 1.0, 0.0, 0.0, 0.0, 0.0, 0.0, 0.0, 0.0, 0.0, 0.0, 0.0, 0.0, 0.0, 0.0, 0.0, 0.0, 0.0, 0.0, 0.0, 0.0, 0.0, 0.0, 0.0, 0.0, 0.0, 0.0, 0.0, 0.0, 0.0, 0.0, 0.0, 0.0, 0.0, 0.0, 0.0, 0.0, 1.0, 0.0, 0.0, 0.0, 0.0, 0.0, 0.0, 0.0, 0.0, 0.0, 0.0, 0.0, 0.0, 0.0, 0.0, 0.0, 0.0, 0.0, 1.0, 0.0, 0.0, 0.0, 0.0, 0.0, 0.0, 0.0, 0.0, 0.0, 0.0, 0.0, 0.0, 0.0, 0.0, 0.0, 0.0, 0.0, 0.0, 0.0, 0.0, 0.0, 0.0, 0.0, 0.0, 0.0, 0.0, 0.0, 0.0, 0.0, 0.0, 0.0, 0.0, 0.0, 0.0, 0.0, 0.0, 0.0, 0.0, 0.0, 0.0, 0.0, 0.0, 0.0, 0.0, 0.0, 0.0, 0.0, 0.0, 0.0, 0.0, 0.0, 0.0, 0.0, 1.0, 0.0, 0.0, 0.0, 0.0, 0.0, 0.0, 0.0, 0.0, 0.0, 0.0, 0.0, 0.0, 0.0, 0.0, 0.0, 0.0, 0.0, 0.0, 0.0, 0.0, 0.0, 0.0, 0.0, 0.0, 0.0, 0.0, 0.0, 0.0, 0.0, 0.0, 0.0, 0.0, 0.0, 0.0, 0.0, 0.0, 0.0, 0.0, 0.0, 0.0, 0.0, 0.0, 0.0, 0.0, 0.0, 0.0, 0.0, 0.0, 0.0, 0.0, 1.0, 0.0, 1.0, 0.0, 0.0, 0.0, 0.0, 0.0, 0.0, 0.0, 0.0, 1.0, 0.0, 0.0, 0.0, 0.0, 0.0, 0.0, 0.0, 0.0, 0.0, 0.0, 0.0, 0.0, 0.0, 0.0, 0.0, 0.0, 0.0, 0.0, 0.0, 0.0, 0.0, 0.0, 0.0, 0.0, 0.0, 0.0, 0.0, 0.0, 0.0, 0.0, 0.0, 0.0, 0.0, 0.0, 0.0, 0.0, 0.0, 0.0, 0.0, 0.0, 0.0, 0.0, 0.0, 0.0, 0.0, 0.0, 0.0, 0.0, 0.0, 0.0, 0.0, 0.0, 0.0, 0.0, 0.0, 0.0, 0.0, 0.0, 0.0, 0.0, 0.0, 0.0, 0.0, 0.0, 0.0, 0.0, 0.0, 0.0, 0.0, 0.0, 0.0, 0.0, 0.0, 0.0, 0.0, 0.0, 0.0, 0.0, 0.0, 0.0, 0.0, 0.0, 0.0, 1.0, 0.0, 0.0, 0.0, 0.0, 0.0, 1.0, 0.0, 0.0, 0.0, 0.0, 0.0, 0.0, 0.0, 0.0, 0.0, 0.0, 0.0, 0.0, 0.0, 0.0, 0.0, 0.0, 0.0, 0.0, 0.0, 0.0, 0.0, 0.0, 0.0, \n",
    "     1.0, 0.0, 1.0, 0.0, 0.0, 0.0, 0.0, 0.0, 0.0, 0.0, 0.0, 0.0, 0.0, 0.0, 0.0, 0.0]\n",
    "\n",
    "# Convert the list to a string representation\n",
    "a_str = ','.join(str(int(bit)) for bit in a) \n",
    "\n",
    "# Define the command and arguments in a list\n",
    "command = [\n",
    "    'python', 'run_EEGSDE_fingerprint.py',\n",
    "    '--exp_name', 'eegsde_qm9_fingerprint',\n",
    "    '--l', '0.5',\n",
    "    '--generators_path', 'pretrained_models/cEDM_fingerprint/generative_model_ema_1340.npy',\n",
    "    '--args_generators_path', 'pretrained_models/cEDM_fingerprint/args_1340.pickle',\n",
    "    '--energy_path', 'pretrained_models/predict_fingerprint/model_ema_1750.npy',\n",
    "    '--args_energy_path', 'pretrained_models/predict_fingerprint/args_1750.pickle',\n",
    "    '--batch_size', '50',\n",
    "    '--save', 'True',\n",
    "    '--fp_1024', a_str  # Passing the string representation of the list\n",
    "]\n",
    "\n",
    "# Execute the command\n",
    "result = subprocess.run(command, capture_output=True, text=True)\n",
    "\n",
    "if result.returncode != 0:\n",
    "    print('Command failed')\n",
    "    print(result.stderr)\n",
    "else:\n",
    "    output_lines = result.stdout.split('\\n')\n",
    "    for line in output_lines:\n",
    "        if line.strip().endswith('_samples.xyz'):\n",
    "            print(f\"Generated molecule file path: {line}\")\n"
   ]
  },
  {
   "cell_type": "code",
   "execution_count": 50,
   "id": "1f675a73",
   "metadata": {},
   "outputs": [
    {
     "name": "stdout",
     "output_type": "stream",
     "text": [
      "Evaluating solution 1...\n",
      "Evaluating solution 2...\n"
     ]
    },
    {
     "name": "stderr",
     "output_type": "stream",
     "text": [
      "RDKit ERROR: [20:08:19] Explicit valence for atom # 11 N, 4, is greater than permitted\n",
      "[20:08:19] Explicit valence for atom # 11 N, 4, is greater than permitted\n"
     ]
    },
    {
     "name": "stdout",
     "output_type": "stream",
     "text": [
      "Evaluating solution 3...\n",
      "Evaluating solution 4...\n",
      "Evaluating solution 5...\n",
      "Evaluating solution 6...\n",
      "Evaluating solution 7...\n",
      "Evaluating solution 8...\n",
      "Evaluating solution 9...\n"
     ]
    },
    {
     "name": "stderr",
     "output_type": "stream",
     "text": [
      "RDKit ERROR: [20:10:19] Explicit valence for atom # 4 N, 4, is greater than permitted\n",
      "[20:10:19] Explicit valence for atom # 4 N, 4, is greater than permitted\n"
     ]
    },
    {
     "name": "stdout",
     "output_type": "stream",
     "text": [
      "Evaluating solution 10...\n",
      "==========================================================\n",
      "n_gen  |  n_eval  | n_nds  |      eps      |   indicator  \n",
      "==========================================================\n",
      "     1 |       10 |      3 |             - |             -\n",
      "Evaluating solution 11...\n",
      "Evaluating solution 12...\n"
     ]
    },
    {
     "name": "stderr",
     "output_type": "stream",
     "text": [
      "RDKit ERROR: [20:11:11] Explicit valence for atom # 4 N, 4, is greater than permitted\n",
      "[20:11:11] Explicit valence for atom # 4 N, 4, is greater than permitted\n"
     ]
    },
    {
     "name": "stdout",
     "output_type": "stream",
     "text": [
      "Evaluating solution 13...\n",
      "Evaluating solution 14...\n"
     ]
    },
    {
     "name": "stderr",
     "output_type": "stream",
     "text": [
      "RDKit ERROR: [20:11:43] Explicit valence for atom # 4 N, 4, is greater than permitted\n",
      "[20:11:43] Explicit valence for atom # 4 N, 4, is greater than permitted\n"
     ]
    },
    {
     "name": "stdout",
     "output_type": "stream",
     "text": [
      "Evaluating solution 15...\n",
      "Evaluating solution 16...\n"
     ]
    },
    {
     "name": "stderr",
     "output_type": "stream",
     "text": [
      "RDKit ERROR: [20:12:15] Explicit valence for atom # 12 N, 4, is greater than permitted\n",
      "[20:12:15] Explicit valence for atom # 12 N, 4, is greater than permitted\n"
     ]
    },
    {
     "name": "stdout",
     "output_type": "stream",
     "text": [
      "Evaluating solution 17...\n",
      "Evaluating solution 18...\n"
     ]
    },
    {
     "name": "stderr",
     "output_type": "stream",
     "text": [
      "RDKit ERROR: [20:12:49] Explicit valence for atom # 5 N, 4, is greater than permitted\n",
      "[20:12:49] Explicit valence for atom # 5 N, 4, is greater than permitted\n"
     ]
    },
    {
     "name": "stdout",
     "output_type": "stream",
     "text": [
      "Evaluating solution 19...\n",
      "Evaluating solution 20...\n",
      "     2 |       20 |      6 |  0.2000000000 |         ideal\n",
      "Evaluating solution 21...\n"
     ]
    },
    {
     "name": "stderr",
     "output_type": "stream",
     "text": [
      "RDKit WARNING: [20:13:37] WARNING: not removing hydrogen atom without neighbors\n",
      "[20:13:37] WARNING: not removing hydrogen atom without neighbors\n"
     ]
    },
    {
     "name": "stdout",
     "output_type": "stream",
     "text": [
      "Evaluating solution 22...\n",
      "Evaluating solution 23...\n",
      "Evaluating solution 24...\n",
      "Evaluating solution 25...\n",
      "Evaluating solution 26...\n",
      "Evaluating solution 27...\n",
      "Evaluating solution 28...\n",
      "Evaluating solution 29...\n"
     ]
    },
    {
     "name": "stderr",
     "output_type": "stream",
     "text": [
      "RDKit ERROR: [20:16:00] Explicit valence for atom # 3 C, 5, is greater than permitted\n",
      "[20:16:00] Explicit valence for atom # 3 C, 5, is greater than permitted\n"
     ]
    },
    {
     "name": "stdout",
     "output_type": "stream",
     "text": [
      "Evaluating solution 30...\n",
      "     3 |       30 |      7 |  0.6277241574 |         nadir\n",
      "Evaluating solution 31...\n",
      "Evaluating solution 32...\n",
      "Evaluating solution 33...\n",
      "Evaluating solution 34...\n",
      "Evaluating solution 35...\n",
      "Evaluating solution 36...\n",
      "Evaluating solution 37...\n",
      "Evaluating solution 38...\n",
      "Evaluating solution 39...\n",
      "Evaluating solution 40...\n",
      "     4 |       40 |     10 |  0.0101917307 |         ideal\n",
      "Evaluating solution 41...\n",
      "Evaluating solution 42...\n",
      "Evaluating solution 43...\n",
      "Evaluating solution 44...\n",
      "Evaluating solution 45...\n",
      "Evaluating solution 46...\n",
      "Evaluating solution 47...\n",
      "Evaluating solution 48...\n",
      "Evaluating solution 49...\n",
      "Evaluating solution 50...\n",
      "     5 |       50 |     10 |  0.0908967103 |         ideal\n",
      "Evaluating solution 51...\n",
      "Evaluating solution 52...\n",
      "Evaluating solution 53...\n",
      "Evaluating solution 54...\n",
      "Evaluating solution 55...\n",
      "Evaluating solution 56...\n",
      "Evaluating solution 57...\n",
      "Evaluating solution 58...\n"
     ]
    },
    {
     "name": "stderr",
     "output_type": "stream",
     "text": [
      "RDKit ERROR: [20:24:16] Explicit valence for atom # 5 N, 4, is greater than permitted\n",
      "[20:24:16] Explicit valence for atom # 5 N, 4, is greater than permitted\n"
     ]
    },
    {
     "name": "stdout",
     "output_type": "stream",
     "text": [
      "Evaluating solution 59...\n",
      "Evaluating solution 60...\n",
      "     6 |       60 |     10 |  0.0384129223 |         ideal\n",
      "Evaluating solution 61...\n",
      "Evaluating solution 62...\n"
     ]
    },
    {
     "name": "stderr",
     "output_type": "stream",
     "text": [
      "RDKit ERROR: [20:25:23] Explicit valence for atom # 0 C, 5, is greater than permitted\n",
      "[20:25:23] Explicit valence for atom # 0 C, 5, is greater than permitted\n"
     ]
    },
    {
     "name": "stdout",
     "output_type": "stream",
     "text": [
      "Evaluating solution 63...\n",
      "Evaluating solution 64...\n",
      "Evaluating solution 65...\n",
      "Evaluating solution 66...\n",
      "Evaluating solution 67...\n",
      "Evaluating solution 68...\n",
      "Evaluating solution 69...\n",
      "Evaluating solution 70...\n",
      "     7 |       70 |     10 |  0.1759816503 |         nadir\n",
      "Evaluating solution 71...\n",
      "Evaluating solution 72...\n",
      "Evaluating solution 73...\n",
      "Evaluating solution 74...\n",
      "Evaluating solution 75...\n",
      "Evaluating solution 76...\n",
      "Evaluating solution 77...\n",
      "Evaluating solution 78...\n",
      "Evaluating solution 79...\n",
      "Evaluating solution 80...\n",
      "     8 |       80 |     10 |  0.0481225313 |             f\n",
      "Evaluating solution 81...\n",
      "Evaluating solution 82...\n",
      "Evaluating solution 83...\n",
      "Evaluating solution 84...\n",
      "Evaluating solution 85...\n",
      "Evaluating solution 86...\n",
      "Evaluating solution 87...\n",
      "Evaluating solution 88...\n",
      "Evaluating solution 89...\n",
      "Evaluating solution 90...\n",
      "     9 |       90 |     10 |  0.6666666667 |         nadir\n",
      "Evaluating solution 91...\n",
      "Evaluating solution 92...\n",
      "Evaluating solution 93...\n",
      "Evaluating solution 94...\n"
     ]
    },
    {
     "name": "stderr",
     "output_type": "stream",
     "text": [
      "RDKit ERROR: [20:34:17] Explicit valence for atom # 1 N, 4, is greater than permitted\n",
      "[20:34:17] Explicit valence for atom # 1 N, 4, is greater than permitted\n"
     ]
    },
    {
     "name": "stdout",
     "output_type": "stream",
     "text": [
      "Evaluating solution 95...\n",
      "Evaluating solution 96...\n",
      "Evaluating solution 97...\n"
     ]
    },
    {
     "name": "stderr",
     "output_type": "stream",
     "text": [
      "RDKit WARNING: [20:35:09] WARNING: not removing hydrogen atom without neighbors\n",
      "[20:35:09] WARNING: not removing hydrogen atom without neighbors\n",
      "RDKit ERROR: [20:35:09] Explicit valence for atom # 3 C, 5, is greater than permitted\n",
      "[20:35:09] Explicit valence for atom # 3 C, 5, is greater than permitted\n"
     ]
    },
    {
     "name": "stdout",
     "output_type": "stream",
     "text": [
      "Evaluating solution 98...\n",
      "Evaluating solution 99...\n"
     ]
    },
    {
     "name": "stderr",
     "output_type": "stream",
     "text": [
      "RDKit ERROR: [20:35:42] Explicit valence for atom # 9 N, 4, is greater than permitted\n",
      "[20:35:42] Explicit valence for atom # 9 N, 4, is greater than permitted\n"
     ]
    },
    {
     "name": "stdout",
     "output_type": "stream",
     "text": [
      "Evaluating solution 100...\n",
      "    10 |      100 |     10 |  0.2500000000 |         nadir\n",
      "Evaluating solution 101...\n",
      "Evaluating solution 102...\n",
      "Evaluating solution 103...\n",
      "Evaluating solution 104...\n",
      "Evaluating solution 105...\n"
     ]
    },
    {
     "name": "stderr",
     "output_type": "stream",
     "text": [
      "RDKit ERROR: [20:37:20] Explicit valence for atom # 12 N, 4, is greater than permitted\n",
      "[20:37:20] Explicit valence for atom # 12 N, 4, is greater than permitted\n"
     ]
    },
    {
     "name": "stdout",
     "output_type": "stream",
     "text": [
      "Evaluating solution 106...\n",
      "Evaluating solution 107...\n"
     ]
    },
    {
     "name": "stderr",
     "output_type": "stream",
     "text": [
      "RDKit ERROR: [20:37:55] Explicit valence for atom # 12 C, 5, is greater than permitted\n",
      "[20:37:55] Explicit valence for atom # 12 C, 5, is greater than permitted\n"
     ]
    },
    {
     "name": "stdout",
     "output_type": "stream",
     "text": [
      "Evaluating solution 108...\n",
      "Evaluating solution 109...\n",
      "Evaluating solution 110...\n",
      "    11 |      110 |     10 |  0.0405673718 |         ideal\n",
      "Evaluating solution 111...\n",
      "Evaluating solution 112...\n",
      "Evaluating solution 113...\n",
      "Evaluating solution 114...\n",
      "Evaluating solution 115...\n",
      "Evaluating solution 116...\n",
      "Evaluating solution 117...\n",
      "Evaluating solution 118...\n",
      "Evaluating solution 119...\n",
      "Evaluating solution 120...\n",
      "    12 |      120 |     10 |  0.1035577042 |             f\n",
      "Evaluating solution 121...\n"
     ]
    },
    {
     "name": "stderr",
     "output_type": "stream",
     "text": [
      "RDKit ERROR: [20:41:48] Explicit valence for atom # 5 C, 5, is greater than permitted\n",
      "[20:41:48] Explicit valence for atom # 5 C, 5, is greater than permitted\n"
     ]
    },
    {
     "name": "stdout",
     "output_type": "stream",
     "text": [
      "Evaluating solution 122...\n",
      "Evaluating solution 123...\n",
      "Evaluating solution 124...\n",
      "Evaluating solution 125...\n"
     ]
    },
    {
     "name": "stderr",
     "output_type": "stream",
     "text": [
      "RDKit ERROR: [20:42:58] Explicit valence for atom # 3 C, 5, is greater than permitted\n",
      "[20:42:58] Explicit valence for atom # 3 C, 5, is greater than permitted\n"
     ]
    },
    {
     "name": "stdout",
     "output_type": "stream",
     "text": [
      "Evaluating solution 126...\n",
      "Evaluating solution 127...\n",
      "Evaluating solution 128...\n",
      "Evaluating solution 129...\n"
     ]
    },
    {
     "name": "stderr",
     "output_type": "stream",
     "text": [
      "RDKit ERROR: [20:44:08] Explicit valence for atom # 9 N, 4, is greater than permitted\n",
      "[20:44:08] Explicit valence for atom # 9 N, 4, is greater than permitted\n"
     ]
    },
    {
     "name": "stdout",
     "output_type": "stream",
     "text": [
      "Evaluating solution 130...\n",
      "    13 |      130 |     10 |  0.0058263273 |             f\n",
      "Evaluating solution 131...\n"
     ]
    },
    {
     "name": "stderr",
     "output_type": "stream",
     "text": [
      "RDKit WARNING: [20:44:42] WARNING: not removing hydrogen atom without neighbors\n",
      "[20:44:42] WARNING: not removing hydrogen atom without neighbors\n",
      "RDKit ERROR: [20:44:42] Explicit valence for atom # 5 C, 5, is greater than permitted\n",
      "[20:44:42] Explicit valence for atom # 5 C, 5, is greater than permitted\n"
     ]
    },
    {
     "name": "stdout",
     "output_type": "stream",
     "text": [
      "Evaluating solution 132...\n",
      "Evaluating solution 133...\n",
      "Evaluating solution 134...\n",
      "Evaluating solution 135...\n",
      "Evaluating solution 136...\n",
      "Evaluating solution 137...\n",
      "Evaluating solution 138...\n",
      "Evaluating solution 139...\n",
      "Evaluating solution 140...\n",
      "    14 |      140 |     10 |  0.2386385468 |         nadir\n",
      "Evaluating solution 141...\n",
      "Evaluating solution 142...\n",
      "Evaluating solution 143...\n",
      "Evaluating solution 144...\n"
     ]
    },
    {
     "name": "stderr",
     "output_type": "stream",
     "text": [
      "RDKit ERROR: [20:48:28] Explicit valence for atom # 14 C, 5, is greater than permitted\n",
      "[20:48:28] Explicit valence for atom # 14 C, 5, is greater than permitted\n"
     ]
    },
    {
     "name": "stdout",
     "output_type": "stream",
     "text": [
      "Evaluating solution 145...\n",
      "Evaluating solution 146...\n",
      "Evaluating solution 147...\n",
      "Evaluating solution 148...\n",
      "Evaluating solution 149...\n",
      "Evaluating solution 150...\n",
      "    15 |      150 |     10 |  0.0961246068 |             f\n",
      "Evaluating solution 151...\n",
      "Evaluating solution 152...\n",
      "Evaluating solution 153...\n",
      "Evaluating solution 154...\n"
     ]
    },
    {
     "name": "stderr",
     "output_type": "stream",
     "text": [
      "RDKit ERROR: [20:51:20] Explicit valence for atom # 10 N, 4, is greater than permitted\n",
      "[20:51:20] Explicit valence for atom # 10 N, 4, is greater than permitted\n"
     ]
    },
    {
     "name": "stdout",
     "output_type": "stream",
     "text": [
      "Evaluating solution 155...\n"
     ]
    },
    {
     "name": "stderr",
     "output_type": "stream",
     "text": [
      "RDKit ERROR: [20:51:36] Can't kekulize mol.  Unkekulized atoms: 0 2 3 8 11\n",
      "[20:51:36] Can't kekulize mol.  Unkekulized atoms: 0 2 3 8 11\n",
      "\n",
      "RDKit ERROR: \n"
     ]
    },
    {
     "name": "stdout",
     "output_type": "stream",
     "text": [
      "Evaluating solution 156...\n",
      "Evaluating solution 157...\n",
      "Evaluating solution 158...\n",
      "Evaluating solution 159...\n",
      "Evaluating solution 160...\n",
      "    16 |      160 |     10 |  0.1079652043 |             f\n",
      "Evaluating solution 161...\n",
      "Evaluating solution 162...\n"
     ]
    },
    {
     "name": "stderr",
     "output_type": "stream",
     "text": [
      "RDKit ERROR: [20:53:40] Explicit valence for atom # 15 C, 5, is greater than permitted\n",
      "[20:53:40] Explicit valence for atom # 15 C, 5, is greater than permitted\n"
     ]
    },
    {
     "name": "stdout",
     "output_type": "stream",
     "text": [
      "Evaluating solution 163...\n",
      "Evaluating solution 164...\n",
      "Evaluating solution 165...\n",
      "Evaluating solution 166...\n",
      "Evaluating solution 167...\n",
      "Evaluating solution 168...\n",
      "Evaluating solution 169...\n",
      "Evaluating solution 170...\n",
      "    17 |      170 |     10 |  0.1609373536 |         nadir\n",
      "Evaluating solution 171...\n",
      "Evaluating solution 172...\n",
      "Evaluating solution 173...\n",
      "Evaluating solution 174...\n",
      "Evaluating solution 175...\n",
      "Evaluating solution 176...\n",
      "Evaluating solution 177...\n",
      "Evaluating solution 178...\n",
      "Evaluating solution 179...\n",
      "Evaluating solution 180...\n",
      "    18 |      180 |     10 |  0.0777425621 |             f\n",
      "Evaluating solution 181...\n",
      "Evaluating solution 182...\n",
      "Evaluating solution 183...\n",
      "Evaluating solution 184...\n"
     ]
    },
    {
     "name": "stderr",
     "output_type": "stream",
     "text": [
      "RDKit ERROR: [20:59:55] Explicit valence for atom # 15 C, 5, is greater than permitted\n",
      "[20:59:55] Explicit valence for atom # 15 C, 5, is greater than permitted\n"
     ]
    },
    {
     "name": "stdout",
     "output_type": "stream",
     "text": [
      "Evaluating solution 185...\n",
      "Evaluating solution 186...\n",
      "Evaluating solution 187...\n"
     ]
    },
    {
     "name": "stderr",
     "output_type": "stream",
     "text": [
      "RDKit ERROR: [21:00:44] Explicit valence for atom # 1 C, 5, is greater than permitted\n",
      "[21:00:44] Explicit valence for atom # 1 C, 5, is greater than permitted\n"
     ]
    },
    {
     "name": "stdout",
     "output_type": "stream",
     "text": [
      "Evaluating solution 188...\n",
      "Evaluating solution 189...\n",
      "Evaluating solution 190...\n",
      "    19 |      190 |     10 |  0.3985761161 |         nadir\n",
      "Evaluating solution 191...\n",
      "Evaluating solution 192...\n",
      "Evaluating solution 193...\n",
      "Evaluating solution 194...\n",
      "Evaluating solution 195...\n",
      "Evaluating solution 196...\n",
      "Evaluating solution 197...\n",
      "Evaluating solution 198...\n",
      "Evaluating solution 199...\n",
      "Evaluating solution 200...\n",
      "    20 |      200 |     10 |  0.0916695883 |             f\n",
      "Best vector: [0.95898551 0.87762086 0.00879102 ... 0.62420483 0.06813105 0.46214176]\n",
      "Generated molecule file path: outputs/eegsde_qm9_fingerprint/l_0.5/samples/70912/70912_samples.xyz\n",
      "Generated molecule file path: outputs/eegsde_qm9_fingerprint/l_0.5/samples/70912/70912_samples.xyz\n"
     ]
    }
   ],
   "source": [
    "from pymoo.algorithms.moo.nsga2 import NSGA2\n",
    "from pymoo.core.problem import Problem\n",
    "from pymoo.operators.crossover.sbx import SimulatedBinaryCrossover as SBXCrossover\n",
    "from pymoo.operators.mutation.pm import PolynomialMutation\n",
    "from pymoo.operators.sampling.rnd import FloatRandomSampling\n",
    "from pymoo.optimize import minimize\n",
    "import numpy as np\n",
    "import subprocess\n",
    "\n",
    "class MolecularOptimizationProblem(Problem):\n",
    "    def __init__(self, vector_size, original_properties, command_template, *args, **kwargs):\n",
    "        super().__init__(n_var=vector_size, n_obj=len(original_properties), n_constr=0, xl=0, xu=1, *args, **kwargs)\n",
    "        self.original_properties = original_properties\n",
    "        self.command_template = command_template\n",
    "        self.evaluation_counter = 0\n",
    "\n",
    "    def _evaluate(self, X, out, *args, **kwargs):\n",
    "        F = []\n",
    "\n",
    "        for x in X:\n",
    "            self.evaluation_counter += 1\n",
    "            print(f\"Evaluating solution {self.evaluation_counter}...\")\n",
    "            a_str = ','.join(str(int(bit)) for bit in np.round(x))\n",
    "            command = self.command_template[:-1] + ['--fp_1024', a_str]  # Remove the last item and add the current vector\n",
    "            \n",
    "            result = subprocess.run(command, capture_output=True, text=True)\n",
    "            if result.returncode != 0:\n",
    "                raise Exception(f'Command failed: {result.stderr}')\n",
    "\n",
    "            xyz_file_path = 'outputs/eegsde_qm9_fingerprint/l_0.5/samples/70912/70912_samples.xyz/samples_000.txt'\n",
    "            \n",
    "            smiles = xyz_to_smiles(xyz_file_path)\n",
    "            largest_fragment, _ = get_largest_fragment(smiles)\n",
    "            \n",
    "            if largest_fragment:\n",
    "                properties = compute_properties(largest_fragment)\n",
    "                losses = [abs(properties[prop] - self.original_properties[prop]) for prop in self.original_properties]\n",
    "            else:\n",
    "                losses = [np.inf] * len(self.original_properties)\n",
    "\n",
    "            F.append(losses)\n",
    "\n",
    "        out[\"F\"] = np.array(F)\n",
    "\n",
    "vector_size = 1024  # Adjust this to match the actual size of your vector 'a'\n",
    "original_properties = {'QED': 0.4682894606480587, 'LogP': -0.7110000000000001, 'MolWt': 156.137, 'SA_Score': 1}\n",
    "\n",
    "command_template = [\n",
    "    'python', 'run_EEGSDE_fingerprint.py',\n",
    "    '--exp_name', 'eegsde_qm9_fingerprint',\n",
    "    '--l', '0.5',\n",
    "    '--generators_path', 'pretrained_models/cEDM_fingerprint/generative_model_ema_1340.npy',\n",
    "    '--args_generators_path', 'pretrained_models/cEDM_fingerprint/args_1340.pickle',\n",
    "    '--energy_path', 'pretrained_models/predict_fingerprint/model_ema_1750.npy',\n",
    "    '--args_energy_path', 'pretrained_models/predict_fingerprint/args_1750.pickle',\n",
    "    '--batch_size', '50',\n",
    "    '--save', 'True'\n",
    "    '--fp_1024', a_str\n",
    "    # '--fp_1024' will be appended in _evaluate\n",
    "]\n",
    "\n",
    "# Initialize the problem\n",
    "problem = MolecularOptimizationProblem(vector_size, original_properties, command_template)\n",
    "\n",
    "# Define the algorithm\n",
    "algorithm = NSGA2(\n",
    "    pop_size=10,\n",
    "    sampling=FloatRandomSampling(),\n",
    "    crossover=SBXCrossover(prob=0.9, eta=15),\n",
    "    mutation=PolynomialMutation(prob=0.1, eta=20)\n",
    ")\n",
    "\n",
    "# Assuming other parts of the code are unchanged\n",
    "\n",
    "# Execute the optimization\n",
    "result = minimize(problem,\n",
    "                  algorithm,\n",
    "                  termination=('n_gen', 20),\n",
    "                  seed=1,\n",
    "                  save_history=True,\n",
    "                  verbose=True)\n",
    "\n",
    "# Instead of using np.argmin(result.F), which assumes a single objective or that all solutions are feasible,\n",
    "# you should select the best solution considering the nature of your multi-objective optimization.\n",
    "# For instance, you might want to look at the Pareto front and select a solution from there.\n",
    "\n",
    "# Check if result has any feasible solution\n",
    "if result.F.size > 0:\n",
    "    pareto_front = result.F[result.F[:, -1] <= 0]  # Assuming the last objective might be a constraint violation\n",
    "    if pareto_front.size > 0:\n",
    "        best_index = np.argmin(pareto_front, axis=0)[0]  # Example: select based on the first objective\n",
    "        best_vector = result.X[best_index]\n",
    "        print(\"Best vector:\", best_vector)\n",
    "    else:\n",
    "        print(\"No feasible solution found in the Pareto front.\")\n",
    "else:\n",
    "    print(\"No solution found in the result.\")\n",
    "# Assuming the rest of your code is unchanged and you have the best_vector from the optimization\n",
    "\n",
    "# Define the file path where you want to save the best vector\n",
    "#file_path = 'best_vector.txt'\n",
    "\n",
    "# Save the best vector to a text file\n",
    "#with open(file_path, 'w') as f:\n",
    "    # Convert each element in the vector to a string and join them with a newline character for full length\n",
    "    #f.write('\\n'.join(map(str, best_vector)))\n",
    "\n",
    "#print(f\"Best vector saved to {file_path}\")\n",
    "# Convert the list to a string representation\n",
    "best_str = ','.join(str(int(bit)) for bit in best_vector) \n",
    "\n",
    "# Define the command and arguments in a list\n",
    "command = [\n",
    "    'python', 'run_EEGSDE_fingerprint.py',\n",
    "    '--exp_name', 'eegsde_qm9_fingerprint',\n",
    "    '--l', '0.5',\n",
    "    '--generators_path', 'pretrained_models/cEDM_fingerprint/generative_model_ema_1340.npy',\n",
    "    '--args_generators_path', 'pretrained_models/cEDM_fingerprint/args_1340.pickle',\n",
    "    '--energy_path', 'pretrained_models/predict_fingerprint/model_ema_1750.npy',\n",
    "    '--args_energy_path', 'pretrained_models/predict_fingerprint/args_1750.pickle',\n",
    "    '--batch_size', '50',\n",
    "    '--save', 'True',\n",
    "    '--fp_1024', best_str  # Passing the string representation of the list\n",
    "]\n",
    "\n",
    "# Execute the command\n",
    "result = subprocess.run(command, capture_output=True, text=True)\n",
    "\n",
    "if result.returncode != 0:\n",
    "    print('Command failed')\n",
    "    print(result.stderr)\n",
    "else:\n",
    "    output_lines = result.stdout.split('\\n')\n",
    "    for line in output_lines:\n",
    "        if line.strip().endswith('_samples.xyz'):\n",
    "            print(f\"Generated molecule file path: {line}\")\n"
   ]
  },
  {
   "cell_type": "code",
   "execution_count": 51,
   "id": "76c9402d",
   "metadata": {},
   "outputs": [
    {
     "name": "stdout",
     "output_type": "stream",
     "text": [
      "SMILES: [CH2]CC[C@@H]1[C@@]2([CH][C@H]2O)C1(C)C\toutputs/eegsde_qm9_fingerprint/l_0.5/samples/70912/70912_samples.xyz/samples_000.txt\n",
      "Largest fragment SMILES: [CH2]CC[C@H]1C(C)(C)[C@]12[CH][C@H]2O\n",
      "Molecule is chemically valid.\n",
      "Properties:\n",
      "QED: 0.6396223305486443\n",
      "LogP: 1.82188\n",
      "MolWt: 152.23699999999997\n",
      "SA_Score: 2\n"
     ]
    }
   ],
   "source": [
    "import openbabel\n",
    "from rdkit import Chem\n",
    "from rdkit.Chem import QED, Crippen, Descriptors, rdMolDescriptors\n",
    "\n",
    "def xyz_to_smiles(xyz_file):\n",
    "    obConversion = openbabel.OBConversion()\n",
    "    obConversion.SetInFormat(\"xyz\")\n",
    "\n",
    "    mol = openbabel.OBMol()\n",
    "    obConversion.ReadFile(mol, xyz_file)  # Read the molecule from file\n",
    "\n",
    "    obConversion.SetOutFormat(\"smi\")\n",
    "    smiles = obConversion.WriteString(mol)  # Convert to SMILES\n",
    "\n",
    "    return smiles.strip()\n",
    "\n",
    "def get_largest_fragment(smiles):\n",
    "    mol = Chem.MolFromSmiles(smiles)\n",
    "    if not mol:\n",
    "        return None, \"Invalid SMILES string.\"\n",
    "    \n",
    "    fragments = Chem.GetMolFrags(mol, asMols=True)\n",
    "    if not fragments:\n",
    "        return None, \"No fragments found.\"\n",
    "\n",
    "    largest_fragment = max(fragments, key=lambda frag: frag.GetNumAtoms())\n",
    "    return largest_fragment, \"\"\n",
    "\n",
    "def check_molecule_sanity(mol):\n",
    "    try:\n",
    "        Chem.SanitizeMol(mol)\n",
    "        return \"Molecule is chemically valid.\"\n",
    "    except Exception as e:\n",
    "        return f\"Sanity check failed: {e}\"\n",
    "\n",
    "def compute_properties(mol):\n",
    "    properties = {}\n",
    "    properties['QED'] = QED.qed(mol)\n",
    "    properties['LogP'] = Crippen.MolLogP(mol)\n",
    "    properties['MolWt'] = Descriptors.MolWt(mol)\n",
    "    properties['SA_Score'] = rdMolDescriptors.CalcNumRotatableBonds(mol)\n",
    "    return properties\n",
    "\n",
    "# Example usage\n",
    "xyz_file_path = 'outputs/eegsde_qm9_fingerprint/l_0.5/samples/70912/70912_samples.xyz/samples_000.txt'\n",
    "smiles = xyz_to_smiles(xyz_file_path)\n",
    "print(\"SMILES:\", smiles)\n",
    "\n",
    "largest_fragment, message = get_largest_fragment(smiles)\n",
    "if largest_fragment:\n",
    "    print(\"Largest fragment SMILES:\", Chem.MolToSmiles(largest_fragment))\n",
    "    validity_message = check_molecule_sanity(largest_fragment)\n",
    "    print(validity_message)\n",
    "    \n",
    "    if \"chemically valid\" in validity_message:\n",
    "        properties = compute_properties(largest_fragment)\n",
    "        print(\"Properties:\")\n",
    "        for prop, value in properties.items():\n",
    "            print(f\"{prop}: {value}\")\n",
    "else:\n",
    "    print(message)\n"
   ]
  },
  {
   "cell_type": "code",
   "execution_count": 52,
   "id": "18601bd9",
   "metadata": {},
   "outputs": [
    {
     "name": "stdout",
     "output_type": "stream",
     "text": [
      "Original SMILES: C1=C[C@@H]([C@@H](C(=C1)C(=O)O)O)O\t/home/chao/3dmolgen/data/small_mol_5/3.xyz\n",
      "Original largest fragment SMILES: O=C(O)C1=CC=C[C@H](O)[C@@H]1O\n",
      "Molecule is chemically valid.\n",
      "Original Properties:\n",
      "QED: 0.4682894606480587\n",
      "LogP: -0.7110000000000001\n",
      "MolWt: 156.137\n",
      "SA_Score: 1\n",
      "\n",
      "Property Differences (Loss):\n",
      "QED Loss: 0.17133286990058555\n",
      "LogP Loss: 2.53288\n",
      "MolWt Loss: 3.900000000000034\n",
      "SA_Score Loss: 1\n"
     ]
    }
   ],
   "source": [
    "import os\n",
    "\n",
    "# Assume xyz_to_smiles, get_largest_fragment, check_molecule_sanity, and compute_properties functions are already defined\n",
    "\n",
    "# Define the paths\n",
    "ground_truth_dir = '/home/chao/3dmolgen/data/small_mol_5'\n",
    "original_xyz_file = os.path.join(ground_truth_dir, '3.xyz')\n",
    "\n",
    "# Process the original molecule\n",
    "original_smiles = xyz_to_smiles(original_xyz_file)\n",
    "print(\"Original SMILES:\", original_smiles)\n",
    "\n",
    "original_fragment, message = get_largest_fragment(original_smiles)\n",
    "if original_fragment:\n",
    "    print(\"Original largest fragment SMILES:\", Chem.MolToSmiles(original_fragment))\n",
    "    validity_message = check_molecule_sanity(original_fragment)\n",
    "    print(validity_message)\n",
    "    \n",
    "    if \"chemically valid\" in validity_message:\n",
    "        original_properties = compute_properties(original_fragment)\n",
    "        print(\"Original Properties:\")\n",
    "        for prop, value in original_properties.items():\n",
    "            print(f\"{prop}: {value}\")\n",
    "else:\n",
    "    print(message)\n",
    "\n",
    "# Assuming 'properties' contains the properties of the generated molecule\n",
    "# Calculate and print the loss between the original and generated properties\n",
    "if 'properties' in locals() and 'original_properties' in locals():\n",
    "    print(\"\\nProperty Differences (Loss):\")\n",
    "    for prop in properties.keys():\n",
    "        loss = abs(properties[prop] - original_properties[prop])\n",
    "        print(f\"{prop} Loss: {loss}\")\n"
   ]
  }
 ],
 "metadata": {
  "kernelspec": {
   "display_name": "EEGSDE",
   "language": "python",
   "name": "eegsde"
  },
  "language_info": {
   "codemirror_mode": {
    "name": "ipython",
    "version": 3
   },
   "file_extension": ".py",
   "mimetype": "text/x-python",
   "name": "python",
   "nbconvert_exporter": "python",
   "pygments_lexer": "ipython3",
   "version": "3.7.16"
  }
 },
 "nbformat": 4,
 "nbformat_minor": 5
}
